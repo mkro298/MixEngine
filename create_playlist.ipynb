{
 "cells": [
  {
   "cell_type": "code",
   "execution_count": 1,
   "metadata": {},
   "outputs": [],
   "source": [
    "import os \n",
    "from flask import Flask, session, url_for, redirect, request\n",
    "from dotenv import load_dotenv\n",
    "from spotipy import Spotify\n",
    "from spotipy.oauth2 import SpotifyOAuth\n",
    "from spotipy.cache_handler import FlaskSessionCacheHandler"
   ]
  },
  {
   "cell_type": "code",
   "execution_count": 2,
   "metadata": {},
   "outputs": [],
   "source": [
    "load_dotenv()\n",
    "client_id =  os.getenv(\"CLIENT_ID\")\n",
    "client_secret = os.getenv(\"CLIENT_SECRET\")\n",
    "redirect_url = 'http://127.0.0.1:5000/callback'\n",
    "scope = 'playlist-read-private, playlist-modify-private'"
   ]
  },
  {
   "cell_type": "code",
   "execution_count": 3,
   "metadata": {},
   "outputs": [],
   "source": [
    "cache_handler = FlaskSessionCacheHandler(session)\n",
    "sp_oauth = SpotifyOAuth(\n",
    "    client_id=client_id, \n",
    "    client_secret=client_secret, \n",
    "    redirect_uri=redirect_url, \n",
    "    scope=scope, \n",
    "    cache_handler=cache_handler, \n",
    "    show_dialog=True\n",
    ")"
   ]
  },
  {
   "cell_type": "code",
   "execution_count": 4,
   "metadata": {},
   "outputs": [],
   "source": [
    "sp = Spotify(auth_manager=sp_oauth)"
   ]
  },
  {
   "cell_type": "code",
   "execution_count": null,
   "metadata": {},
   "outputs": [],
   "source": [
    "user_info = sp.current_user()\n",
    "playlists = sp.user_playlist_create(user=user_info['username'], name=\"play\", description = \" \")"
   ]
  }
 ],
 "metadata": {
  "kernelspec": {
   "display_name": "Python 3",
   "language": "python",
   "name": "python3"
  },
  "language_info": {
   "codemirror_mode": {
    "name": "ipython",
    "version": 3
   },
   "file_extension": ".py",
   "mimetype": "text/x-python",
   "name": "python",
   "nbconvert_exporter": "python",
   "pygments_lexer": "ipython3",
   "version": "3.11.9"
  }
 },
 "nbformat": 4,
 "nbformat_minor": 2
}

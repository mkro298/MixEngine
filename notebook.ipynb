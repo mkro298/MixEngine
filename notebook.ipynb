{
 "cells": [
  {
   "cell_type": "code",
   "execution_count": 188,
   "metadata": {},
   "outputs": [],
   "source": [
    "import numpy as np\n",
    "import pandas as pd \n",
    "from sklearn.feature_extraction.text import TfidfVectorizer\n",
    "from sklearn.metrics.pairwise import linear_kernel\n",
    "from ast import literal_eval\n",
    "from sklearn.feature_extraction.text import CountVectorizer\n",
    "from sklearn.metrics.pairwise import cosine_similarity"
   ]
  },
  {
   "cell_type": "code",
   "execution_count": 189,
   "metadata": {},
   "outputs": [],
   "source": [
    "df1 = pd.read_csv(\"/Users/monishakrothapalli/Documents/GitHub/playlistGen/spotify_data.csv\")"
   ]
  },
  {
   "cell_type": "code",
   "execution_count": 191,
   "metadata": {},
   "outputs": [
    {
     "data": {
      "text/plain": [
       "(1159764, 20)"
      ]
     },
     "execution_count": 191,
     "metadata": {},
     "output_type": "execute_result"
    }
   ],
   "source": [
    "df1.shape"
   ]
  },
  {
   "cell_type": "code",
   "execution_count": 190,
   "metadata": {},
   "outputs": [
    {
     "name": "stdout",
     "output_type": "stream",
     "text": [
      "<class 'pandas.core.frame.DataFrame'>\n",
      "RangeIndex: 1159764 entries, 0 to 1159763\n",
      "Data columns (total 20 columns):\n",
      " #   Column            Non-Null Count    Dtype  \n",
      "---  ------            --------------    -----  \n",
      " 0   Unnamed: 0        1159764 non-null  int64  \n",
      " 1   artist_name       1159749 non-null  object \n",
      " 2   track_name        1159763 non-null  object \n",
      " 3   track_id          1159764 non-null  object \n",
      " 4   popularity        1159764 non-null  int64  \n",
      " 5   year              1159764 non-null  int64  \n",
      " 6   genre             1159764 non-null  object \n",
      " 7   danceability      1159764 non-null  float64\n",
      " 8   energy            1159764 non-null  float64\n",
      " 9   key               1159764 non-null  int64  \n",
      " 10  loudness          1159764 non-null  float64\n",
      " 11  mode              1159764 non-null  int64  \n",
      " 12  speechiness       1159764 non-null  float64\n",
      " 13  acousticness      1159764 non-null  float64\n",
      " 14  instrumentalness  1159764 non-null  float64\n",
      " 15  liveness          1159764 non-null  float64\n",
      " 16  valence           1159764 non-null  float64\n",
      " 17  tempo             1159764 non-null  float64\n",
      " 18  duration_ms       1159764 non-null  int64  \n",
      " 19  time_signature    1159764 non-null  int64  \n",
      "dtypes: float64(9), int64(7), object(4)\n",
      "memory usage: 177.0+ MB\n"
     ]
    },
    {
     "data": {
      "text/plain": [
       "Unnamed: 0           0\n",
       "artist_name         15\n",
       "track_name           1\n",
       "track_id             0\n",
       "popularity           0\n",
       "year                 0\n",
       "genre                0\n",
       "danceability         0\n",
       "energy               0\n",
       "key                  0\n",
       "loudness             0\n",
       "mode                 0\n",
       "speechiness          0\n",
       "acousticness         0\n",
       "instrumentalness     0\n",
       "liveness             0\n",
       "valence              0\n",
       "tempo                0\n",
       "duration_ms          0\n",
       "time_signature       0\n",
       "dtype: int64"
      ]
     },
     "execution_count": 190,
     "metadata": {},
     "output_type": "execute_result"
    }
   ],
   "source": [
    "df1.info()\n",
    "df1.isnull().sum()"
   ]
  },
  {
   "cell_type": "code",
   "execution_count": 192,
   "metadata": {},
   "outputs": [],
   "source": [
    "from sklearn.preprocessing import StandardScaler"
   ]
  },
  {
   "cell_type": "code",
   "execution_count": 219,
   "metadata": {},
   "outputs": [],
   "source": [
    "def section_data(genre):\n",
    "    sampled = df1[df1['genre'] == genre]\n",
    "    features = ['valence', 'energy', 'danceability', 'loudness']\n",
    "    df2 = sampled[features]\n",
    "    scaler = StandardScaler()\n",
    "    df2  = scaler.fit_transform(df2)\n",
    "    sim_matrix = cosine_similarity(df2)\n",
    "    return sim_matrix, sampled "
   ]
  },
  {
   "cell_type": "code",
   "execution_count": 205,
   "metadata": {},
   "outputs": [],
   "source": [
    "def get_indices(genre):\n",
    "    _, sampled = section_data(genre)\n",
    "    indices = {song: i for i, song in enumerate(sampled['track_name'])}\n",
    "    return indices; "
   ]
  },
  {
   "cell_type": "code",
   "execution_count": 206,
   "metadata": {},
   "outputs": [],
   "source": [
    "def get_genre(song, artist):\n",
    "    genre = df1.loc[(df1['track_name'] == song) & (df1['artist_name'] == artist), 'genre'].values[0]\n",
    "    return genre "
   ]
  },
  {
   "cell_type": "code",
   "execution_count": 220,
   "metadata": {},
   "outputs": [],
   "source": [
    "def get_recs(song, aritst, length):\n",
    "    genre = get_genre(song, aritst)\n",
    "\n",
    "    cosine_sim, sampled = section_data(genre)\n",
    "    indices = get_indices(genre)\n",
    "\n",
    "    if song not in indices:\n",
    "        raise ValueError(\"Song '{song}' not found.\")\n",
    "    \n",
    "    index = indices[song]\n",
    "\n",
    "    sim_scores = list(enumerate(cosine_sim[index]))\n",
    "\n",
    "    sim_scores = sorted(sim_scores, key=lambda x: x[1], reverse=True)\n",
    "\n",
    "    sim_scores = sim_scores[0:length]\n",
    "\n",
    "    song_index = [i[0] for i in sim_scores]\n",
    "\n",
    "    return sampled['artist_name'].iloc[song_index],sampled['track_name'].iloc[song_index] "
   ]
  },
  {
   "cell_type": "code",
   "execution_count": 222,
   "metadata": {},
   "outputs": [
    {
     "name": "stdout",
     "output_type": "stream",
     "text": [
      "569184                                 Kill Bill\n",
      "515568                                     Ghost\n",
      "515610                               My Universe\n",
      "515584    Peaches (feat. Daniel Caesar & Giveon)\n",
      "739350             She Will Be Loved - Radio Mix\n",
      "461999                            Shinunoga E-Wa\n",
      "93573                              We Can't Stop\n",
      "612512                                     River\n",
      "462007                                    Maniac\n",
      "569187                                 Anti-Hero\n",
      "146786                                Like I Can\n",
      "612580           Deserve Me (with Summer Walker)\n",
      "569254                               All My Love\n",
      "293484                          ...Ready For It?\n",
      "515577         Wildest Dreams (Taylor's Version)\n",
      "93593                                  Right Now\n",
      "569202                            Seek & Destroy\n",
      "406392                                   ROXANNE\n",
      "293526                                   Go Gina\n",
      "515595     You Belong With Me (Taylor’s Version)\n",
      "Name: track_name, dtype: object\n",
      "569184               SZA\n",
      "515568     Justin Bieber\n",
      "515610          Coldplay\n",
      "515584     Justin Bieber\n",
      "739350          Maroon 5\n",
      "461999        Fujii Kaze\n",
      "93573        Miley Cyrus\n",
      "612512       Miley Cyrus\n",
      "462007        Conan Gray\n",
      "569187      Taylor Swift\n",
      "146786         Sam Smith\n",
      "612580        Kali Uchis\n",
      "569254        Noah Kahan\n",
      "293484      Taylor Swift\n",
      "515577      Taylor Swift\n",
      "93593      One Direction\n",
      "569202               SZA\n",
      "406392    Arizona Zervas\n",
      "293526               SZA\n",
      "515595      Taylor Swift\n",
      "Name: artist_name, dtype: object\n"
     ]
    }
   ],
   "source": [
    "artists, tracks = get_recs('Kill Bill', 'SZA', 20)\n",
    "print(tracks)\n",
    "print(artists)"
   ]
  }
 ],
 "metadata": {
  "kernelspec": {
   "display_name": ".venv",
   "language": "python",
   "name": "python3"
  },
  "language_info": {
   "codemirror_mode": {
    "name": "ipython",
    "version": 3
   },
   "file_extension": ".py",
   "mimetype": "text/x-python",
   "name": "python",
   "nbconvert_exporter": "python",
   "pygments_lexer": "ipython3",
   "version": "3.11.9"
  }
 },
 "nbformat": 4,
 "nbformat_minor": 2
}

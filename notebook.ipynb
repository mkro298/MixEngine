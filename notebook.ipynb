{
 "cells": [
  {
   "cell_type": "code",
   "execution_count": 11,
   "metadata": {},
   "outputs": [],
   "source": [
    "import numpy as np\n",
    "import pandas as pd \n",
    "from sklearn.feature_extraction.text import TfidfVectorizer\n",
    "from sklearn.metrics.pairwise import linear_kernel\n",
    "from ast import literal_eval\n",
    "from sklearn.feature_extraction.text import CountVectorizer\n",
    "from sklearn.metrics.pairwise import cosine_similarity\n",
    "import psycopg2"
   ]
  },
  {
   "cell_type": "code",
   "execution_count": 8,
   "metadata": {},
   "outputs": [],
   "source": [
    "df1 = pd.read_csv(\"/Users/monishakrothapalli/Documents/GitHub/playlistGen/spotify_data.csv\")"
   ]
  },
  {
   "cell_type": "code",
   "execution_count": 9,
   "metadata": {},
   "outputs": [
    {
     "data": {
      "text/plain": [
       "Index(['index', 'artist_name', 'track_name', 'track_id', 'popularity', 'year',\n",
       "       'genre', 'danceability', 'energy', 'key', 'loudness', 'mode',\n",
       "       'speechiness', 'acousticness', 'instrumentalness', 'liveness',\n",
       "       'valence', 'tempo', 'duration_ms', 'time_signature'],\n",
       "      dtype='object')"
      ]
     },
     "execution_count": 9,
     "metadata": {},
     "output_type": "execute_result"
    }
   ],
   "source": [
    "df1.columns"
   ]
  },
  {
   "cell_type": "code",
   "execution_count": 4,
   "metadata": {},
   "outputs": [
    {
     "name": "stdout",
     "output_type": "stream",
     "text": [
      "<class 'pandas.core.frame.DataFrame'>\n",
      "RangeIndex: 1159764 entries, 0 to 1159763\n",
      "Data columns (total 20 columns):\n",
      " #   Column            Non-Null Count    Dtype  \n",
      "---  ------            --------------    -----  \n",
      " 0   Unnamed: 0        1159764 non-null  int64  \n",
      " 1   artist_name       1159749 non-null  object \n",
      " 2   track_name        1159763 non-null  object \n",
      " 3   track_id          1159764 non-null  object \n",
      " 4   popularity        1159764 non-null  int64  \n",
      " 5   year              1159764 non-null  int64  \n",
      " 6   genre             1159764 non-null  object \n",
      " 7   danceability      1159764 non-null  float64\n",
      " 8   energy            1159764 non-null  float64\n",
      " 9   key               1159764 non-null  int64  \n",
      " 10  loudness          1159764 non-null  float64\n",
      " 11  mode              1159764 non-null  int64  \n",
      " 12  speechiness       1159764 non-null  float64\n",
      " 13  acousticness      1159764 non-null  float64\n",
      " 14  instrumentalness  1159764 non-null  float64\n",
      " 15  liveness          1159764 non-null  float64\n",
      " 16  valence           1159764 non-null  float64\n",
      " 17  tempo             1159764 non-null  float64\n",
      " 18  duration_ms       1159764 non-null  int64  \n",
      " 19  time_signature    1159764 non-null  int64  \n",
      "dtypes: float64(9), int64(7), object(4)\n",
      "memory usage: 177.0+ MB\n"
     ]
    },
    {
     "data": {
      "text/plain": [
       "Unnamed: 0           0\n",
       "artist_name         15\n",
       "track_name           1\n",
       "track_id             0\n",
       "popularity           0\n",
       "year                 0\n",
       "genre                0\n",
       "danceability         0\n",
       "energy               0\n",
       "key                  0\n",
       "loudness             0\n",
       "mode                 0\n",
       "speechiness          0\n",
       "acousticness         0\n",
       "instrumentalness     0\n",
       "liveness             0\n",
       "valence              0\n",
       "tempo                0\n",
       "duration_ms          0\n",
       "time_signature       0\n",
       "dtype: int64"
      ]
     },
     "execution_count": 4,
     "metadata": {},
     "output_type": "execute_result"
    }
   ],
   "source": [
    "df1.info()\n",
    "df1.isnull().sum()"
   ]
  },
  {
   "cell_type": "code",
   "execution_count": 25,
   "metadata": {},
   "outputs": [],
   "source": [
    "from sklearn.preprocessing import StandardScaler"
   ]
  },
  {
   "cell_type": "code",
   "execution_count": 26,
   "metadata": {},
   "outputs": [],
   "source": [
    "def section_data(genre):\n",
    "    sampled = df1[df1['genre'] == genre]\n",
    "    features = ['valence', 'energy', 'danceability', 'loudness']\n",
    "    df2 = sampled[features]\n",
    "    scaler = StandardScaler()\n",
    "    df2  = scaler.fit_transform(df2)\n",
    "    sim_matrix = cosine_similarity(df2)\n",
    "    return sim_matrix, sampled "
   ]
  },
  {
   "cell_type": "code",
   "execution_count": 27,
   "metadata": {},
   "outputs": [],
   "source": [
    "def get_indices(genre):\n",
    "    _, sampled = section_data(genre)\n",
    "    indices = {song: i for i, song in enumerate(sampled['track_name'])}\n",
    "    return indices; "
   ]
  },
  {
   "cell_type": "code",
   "execution_count": 28,
   "metadata": {},
   "outputs": [],
   "source": [
    "def get_genre(song, artist):\n",
    "    genre = df1.loc[(df1['track_name'] == song) & (df1['artist_name'] == artist), 'genre'].values[0]\n",
    "    return genre "
   ]
  },
  {
   "cell_type": "code",
   "execution_count": 29,
   "metadata": {},
   "outputs": [],
   "source": [
    "def check_in_database(song, artist):\n",
    "    return not df1[(df1['track_name'] == song) & (df1['artist_name'] == artist)].empty"
   ]
  },
  {
   "cell_type": "code",
   "execution_count": 30,
   "metadata": {},
   "outputs": [],
   "source": [
    "def get_recs(song, artist, length, new_song_features=None):\n",
    "    global df1\n",
    "    if new_song_features:\n",
    "        if (not(check_in_database(song, artist))):\n",
    "            new_song_data = {\n",
    "                'track_name': song,\n",
    "                'artist_name': artist,\n",
    "                'genre': new_song_features.pop('genre')\n",
    "            }\n",
    "            new_song_data.update(new_song_features)\n",
    "            new_song_df = pd.DataFrame([new_song_data])\n",
    "            df1 = pd.concat([df1, new_song_df], ignore_index=True)\n",
    "    \n",
    "    genre = get_genre(song, artist)\n",
    "\n",
    "    cosine_sim, sampled = section_data(genre)\n",
    "    indices = get_indices(genre)\n",
    "\n",
    "    if song not in indices:\n",
    "        raise ValueError(\"Song '{song}' not found.\")\n",
    "    \n",
    "    index = indices[song]\n",
    "\n",
    "    sim_scores = list(enumerate(cosine_sim[index]))\n",
    "\n",
    "    sim_scores = sorted(sim_scores, key=lambda x: x[1], reverse=True)\n",
    "\n",
    "    sim_scores = sim_scores[0:length]\n",
    "\n",
    "    song_index = [i[0] for i in sim_scores]\n",
    "\n",
    "    return sampled['artist_name'].iloc[song_index],sampled['track_name'].iloc[song_index] "
   ]
  },
  {
   "cell_type": "code",
   "execution_count": 31,
   "metadata": {},
   "outputs": [
    {
     "name": "stdout",
     "output_type": "stream",
     "text": [
      "569184                                        Kill Bill\n",
      "462138                                Gimme What I Want\n",
      "1101682                                     Complicated\n",
      "1007772                           Si No Te Hubieras Ido\n",
      "406534                                    Peer Pressure\n",
      "93593                                         Right Now\n",
      "40634      Someday (feat. Max Schneider) - Film Version\n",
      "913993                                    Dance With Me\n",
      "1007761                                   Cold Shoulder\n",
      "197553                                          Perfect\n",
      "293755                                  Can't Be Erased\n",
      "1101644                                       Ay Haiti!\n",
      "515742                                           OHMAMI\n",
      "960323            En el Amor No Se Manda (with Yuridia)\n",
      "93648                                        Make a Mil\n",
      "40469                       Dirty Diana - 2012 Remaster\n",
      "146830                               Stockholm Syndrome\n",
      "40577                              Blue Jeans - RAC Mix\n",
      "1101596                       Tonight (I'm Fuckin' You)\n",
      "782709                                      Dirty Diana\n",
      "Name: track_name, dtype: object\n",
      "569184                  SZA\n",
      "462138          Miley Cyrus\n",
      "1101682             Rihanna\n",
      "1007772                Maná\n",
      "406534            James Bay\n",
      "93593         One Direction\n",
      "40634             Rags Cast\n",
      "913993          Drew Seeley\n",
      "1007761               Adele\n",
      "197553        One Direction\n",
      "293755             JT Music\n",
      "1101644      Alejandro Sanz\n",
      "515742       Chase Atlantic\n",
      "960323        Carlos Rivera\n",
      "93648         PARTYNEXTDOOR\n",
      "40469       Michael Jackson\n",
      "146830        One Direction\n",
      "40577          Lana Del Rey\n",
      "1101596    Enrique Iglesias\n",
      "782709      Michael Jackson\n",
      "Name: artist_name, dtype: object\n"
     ]
    }
   ],
   "source": [
    "artists, tracks = get_recs('Kill Bill', 'SZA', 20)\n",
    "print(tracks)\n",
    "print(artists)"
   ]
  },
  {
   "cell_type": "code",
   "execution_count": 34,
   "metadata": {},
   "outputs": [
    {
     "name": "stdout",
     "output_type": "stream",
     "text": [
      "\n",
      "Recommendations for a manually entered song:\n",
      "1159764                Unknown Artist\n",
      "825387                   Diego Torres\n",
      "914022                   Toño Rosario\n",
      "913911                            RBD\n",
      "515711                     Conan Gray\n",
      "825278               Bowling For Soup\n",
      "40612                     Austin Moon\n",
      "40480                   One Direction\n",
      "782764                  Michael Bublé\n",
      "1147622           Marco Antonio Solís\n",
      "696832                    Luis Miguel\n",
      "960231                       Maroon 5\n",
      "197664                          BØRNS\n",
      "825292                           Lamp\n",
      "1054858               Marianas Trench\n",
      "696662                      blink-182\n",
      "914080                   Sister Hazel\n",
      "93697      Michael Franti & Spearhead\n",
      "40499                 Matchbox Twenty\n",
      "782761                           Maná\n",
      "Name: artist_name, dtype: object\n",
      "1159764                                         Unknown Song\n",
      "825387         Sueños (with Julieta Venegas) - MTV Unplugged\n",
      "914022                                        Kiliki Taka Ti\n",
      "913911                                         Ser O Parecer\n",
      "515711                                              Telepath\n",
      "825278                                                  1985\n",
      "40612      Can’t Do It Without You (Austin & Ally Main Ti...\n",
      "40480                                               Stand Up\n",
      "782764                        Crazy Little Thing Called Love\n",
      "1147622                                             Morenita\n",
      "696832                               Amor (Amor, amor, amor)\n",
      "960231                                          Wake Up Call\n",
      "197664                                          Seeing Stars\n",
      "825292                              Last Train At 25 O'clock\n",
      "1054858                                     Celebrity Status\n",
      "696662                                            First Date\n",
      "914080                                         Mandolin Moon\n",
      "93697                           I’m Alive (Life Sounds Like)\n",
      "40499                                               Our Song\n",
      "782761                                Te llevaré al cielo...\n",
      "Name: track_name, dtype: object\n"
     ]
    }
   ],
   "source": [
    "new_song_features = {\n",
    "        'valence': 0.75, \n",
    "        'energy': 0.80, \n",
    "        'danceability': 0.60, \n",
    "        'loudness': -5.0, \n",
    "        'speechiness': 0.05, \n",
    "        'acousticness': 0.15, \n",
    "        'instrumentalness': 0.0,\n",
    "        'genre': 'pop'\n",
    "    }\n",
    "print(\"\\nRecommendations for a manually entered song:\")\n",
    "tracks = get_recs('Unknown Song', 'Unknown Artist', 20, new_song_features)\n",
    "for song in tracks:\n",
    "    print(song)"
   ]
  }
 ],
 "metadata": {
  "kernelspec": {
   "display_name": ".venv",
   "language": "python",
   "name": "python3"
  },
  "language_info": {
   "codemirror_mode": {
    "name": "ipython",
    "version": 3
   },
   "file_extension": ".py",
   "mimetype": "text/x-python",
   "name": "python",
   "nbconvert_exporter": "python",
   "pygments_lexer": "ipython3",
   "version": "3.11.9"
  }
 },
 "nbformat": 4,
 "nbformat_minor": 2
}
